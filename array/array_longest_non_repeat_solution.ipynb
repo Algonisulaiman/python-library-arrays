{
 "cells": [
  {
   "cell_type": "code",
   "execution_count": 9,
   "metadata": {},
   "outputs": [
    {
     "name": "stdout",
     "output_type": "stream",
     "text": [
      "['b', 'a']\n",
      "['a']\n",
      "['a', 'c', 'b']\n",
      "['c', 'b']\n",
      "['b']\n",
      "['b']\n"
     ]
    },
    {
     "data": {
      "text/plain": [
       "3"
      ]
     },
     "execution_count": 9,
     "metadata": {},
     "output_type": "execute_result"
    }
   ],
   "source": [
    "# ---------------------------------------------------------------\n",
    "# python best courses https://courses.tanpham.org/\n",
    "# ---------------------------------------------------------------\n",
    "# Challenge\n",
    "# Given a string, find the length of the longest substring\n",
    "# without repeating characters.\n",
    "\n",
    "# Examples:\n",
    "# Given \"abcabcbb\", the answer is \"abc\", which the length is 3.\n",
    "# Given \"bbbbb\", the answer is \"b\", with the length of 1.\n",
    "# Given \"pwwkew\", the answer is \"wke\", with the length of 3.\n",
    "# ---------------------------------------------------------------\n",
    "# Algorithm\n",
    "\n",
    "# In summary : Form all posible sub_strings from original string, then return length of longest sub_string\n",
    "\n",
    "# - start from 1st character, form as long as posible sub string\n",
    "\n",
    "#             - Add first character to sub string\n",
    "#             - Add second character to sub string if second character not exist in sub string\n",
    "#             ...\n",
    "#             - Repeate until got a character which already exist inside sub string or \n",
    "    \n",
    "    \n",
    "# - start from 2nd character, form as long as posible sub string\n",
    "\n",
    "#             - Add first character to sub string\n",
    "#             - Add second character to sub string if second character not exist in sub string\n",
    "#             ...\n",
    "#             - Repeate until got a character which already exist inside sub string\n",
    "\n",
    "\n",
    "# ....\n",
    "\n",
    "\n",
    "# - start from final character, form as long as posible sub string\n",
    "#             - Add first character to sub string\n",
    "#             - Add second character to sub string if second character not exist in sub string\n",
    "#             ...\n",
    "#             - Repeate until got a character which already exist inside sub string\n",
    "# ---------------------------------------------------------------\n",
    "\n",
    "str = \"baacbb\"\n",
    "\n",
    "def longest_non_repeat(str):\n",
    "    \n",
    "    # init start position and max length     \n",
    "    i=0\n",
    "    max_length = 1\n",
    "\n",
    "    for i,c in enumerate(str):\n",
    "\n",
    "        # init counter and sub string value         \n",
    "        start_at = i\n",
    "        sub_str=[]\n",
    "\n",
    "        # continue increase sub string if did not repeat character         \n",
    "        while (start_at < len(str)) and (str[start_at] not in sub_str):\n",
    "            sub_str.append(str[start_at])\n",
    "            start_at = start_at + 1\n",
    "\n",
    "        # update the max length   \n",
    "        if len(sub_str) > max_length:\n",
    "            max_length = len(sub_str)\n",
    "\n",
    "        print(sub_str)\n",
    "        \n",
    "    return max_length\n",
    "\n",
    "longest_non_repeat(str)\n"
   ]
  },
  {
   "cell_type": "code",
   "execution_count": 8,
   "metadata": {},
   "outputs": [
    {
     "name": "stdout",
     "output_type": "stream",
     "text": [
      "['b', 'a', 'c'] 3\n"
     ]
    }
   ],
   "source": [
    "_str = \"baacbb\"\n",
    "a_set=[]\n",
    "for i in _str:\n",
    "    if i in a_set:\n",
    "        continue\n",
    "    a_set.append(i)\n",
    "    _str.replace(i,\"\")\n",
    "\n",
    "        \n",
    "print(a_set,len(a_set))\n",
    "#不連續"
   ]
  },
  {
   "cell_type": "code",
   "execution_count": 16,
   "metadata": {},
   "outputs": [
    {
     "name": "stdout",
     "output_type": "stream",
     "text": [
      "['b'] 1\n"
     ]
    }
   ],
   "source": [
    "_str = \"baacb\"\n",
    "a_set=[]\n",
    "for i in _str:\n",
    "    if i in a_set:\n",
    "        a_set.clear()\n",
    "        a_set.append(i)\n",
    "        continue\n",
    "    a_set.append(i)\n",
    "print(a_set,len(a_set))"
   ]
  },
  {
   "cell_type": "code",
   "execution_count": 41,
   "metadata": {},
   "outputs": [
    {
     "name": "stdout",
     "output_type": "stream",
     "text": [
      "[]\n",
      "['b']\n",
      "['b', 'a']\n",
      "a\n",
      "['a']\n",
      "['a', 'c']\n",
      "['a', 'c', 'b']\n",
      "b\n",
      "5 b\n"
     ]
    }
   ],
   "source": [
    "_str = \"baacbb\"\n",
    "a_set=[]\n",
    "for i,v in enumerate(_str):\n",
    "    print(a_set)\n",
    "    if v in a_set:\n",
    "        a_set.clear()\n",
    "        a_set.append(v)\n",
    "        continue\n",
    "    a_set.append(v)"
   ]
  },
  {
   "cell_type": "code",
   "execution_count": 26,
   "metadata": {},
   "outputs": [
    {
     "data": {
      "text/plain": [
       "'b'"
      ]
     },
     "execution_count": 26,
     "metadata": {},
     "output_type": "execute_result"
    }
   ],
   "source": [
    "_str = \"baacbb\"\n",
    "_str[len(_str)-1]"
   ]
  },
  {
   "cell_type": "code",
   "execution_count": null,
   "metadata": {},
   "outputs": [],
   "source": []
  }
 ],
 "metadata": {
  "kernelspec": {
   "display_name": "Python 3",
   "language": "python",
   "name": "python3"
  },
  "language_info": {
   "codemirror_mode": {
    "name": "ipython",
    "version": 3
   },
   "file_extension": ".py",
   "mimetype": "text/x-python",
   "name": "python",
   "nbconvert_exporter": "python",
   "pygments_lexer": "ipython3",
   "version": "3.6.4"
  }
 },
 "nbformat": 4,
 "nbformat_minor": 2
}
