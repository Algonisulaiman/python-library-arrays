{
 "cells": [
  {
   "cell_type": "code",
   "execution_count": 2,
   "metadata": {},
   "outputs": [
    {
     "name": "stdout",
     "output_type": "stream",
     "text": [
      "[[1, 10], [11, 18], [19, 22]]\n"
     ]
    }
   ],
   "source": [
    "# ---------------------------------------------------------------\n",
    "# python best courses https://courses.tanpham.org/\n",
    "# ---------------------------------------------------------------\n",
    "\"\"\"\n",
    "Given a collection of intervals which are already sorted by start number, merge all overlapping intervals.\n",
    "For example,\n",
    "Given [[1,3],[2,6],[5,10],[11,16],[15,18],[19,22]],\n",
    "return [[1, 10], [11, 18], [19, 22]]\n",
    "\"\"\"\n",
    "\n",
    "org_intervals = [[1,3],[2,6],[5,10],[11,16],[15,18],[19,22]]\n",
    "\n",
    "i = 0\n",
    "\n",
    "while i < len(org_intervals)-1:\n",
    "#     print(org_intervals[i])\n",
    "    if org_intervals[i+1][0] < org_intervals[i][1]:\n",
    "        org_intervals[i][1]=org_intervals[i+1][1]\n",
    "        del org_intervals[i+1]\n",
    "        i = i - 1\n",
    "    i = i + 1\n",
    "\n",
    "print(org_intervals)"
   ]
  },
  {
   "cell_type": "code",
   "execution_count": 37,
   "metadata": {},
   "outputs": [
    {
     "name": "stdout",
     "output_type": "stream",
     "text": [
      "[[1, 10], [11, 18], [19, 22]]\n"
     ]
    }
   ],
   "source": [
    "org_intervals = [[1,3],[2,6],[5,10],[11,16],[15,18],[19,22]]\n",
    "result=[]\n",
    "for i in org_intervals:\n",
    "        if result and result[-1][-1] >= i[0]:\n",
    "                result[-1][-1] = max(result[-1][-1],i[-1])\n",
    "        else:\n",
    "                result.append(i)\n",
    "print(result)"
   ]
  },
  {
   "cell_type": "code",
   "execution_count": 35,
   "metadata": {},
   "outputs": [
    {
     "name": "stdout",
     "output_type": "stream",
     "text": [
      "2\n"
     ]
    }
   ],
   "source": [
    "a=[2,6]\n",
    "print(a[0])"
   ]
  },
  {
   "cell_type": "code",
   "execution_count": null,
   "metadata": {},
   "outputs": [],
   "source": []
  }
 ],
 "metadata": {
  "kernelspec": {
   "display_name": "Python 3",
   "language": "python",
   "name": "python3"
  },
  "language_info": {
   "codemirror_mode": {
    "name": "ipython",
    "version": 3
   },
   "file_extension": ".py",
   "mimetype": "text/x-python",
   "name": "python",
   "nbconvert_exporter": "python",
   "pygments_lexer": "ipython3",
   "version": "3.6.4"
  }
 },
 "nbformat": 4,
 "nbformat_minor": 2
}
