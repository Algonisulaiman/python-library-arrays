{
 "cells": [
  {
   "cell_type": "code",
   "execution_count": 1,
   "metadata": {},
   "outputs": [
    {
     "name": "stdout",
     "output_type": "stream",
     "text": [
      "2\n"
     ]
    }
   ],
   "source": [
    "# Write a Python program to find the greatest common divisor (gcd) of two integers.\n",
    "\n",
    "def Recurgcd(a, b):\n",
    "\tlow = min(a, b)\n",
    "\thigh = max(a, b)\n",
    "\n",
    "\tif low == 0:\n",
    "\t\treturn high\n",
    "\telif low == 1:\n",
    "\t\treturn 1\n",
    "\telse:\n",
    "\t\treturn Recurgcd(low, high%low)\n",
    "print(Recurgcd(12,14))"
   ]
  },
  {
   "cell_type": "code",
   "execution_count": 5,
   "metadata": {},
   "outputs": [
    {
     "name": "stdout",
     "output_type": "stream",
     "text": [
      "1\n"
     ]
    }
   ],
   "source": [
    "GCD = lambda a, b: (GCD(b, a % b) if a % b else b)\n",
    "print(GCD(1,5))"
   ]
  },
  {
   "cell_type": "code",
   "execution_count": null,
   "metadata": {},
   "outputs": [],
   "source": []
  }
 ],
 "metadata": {
  "kernelspec": {
   "display_name": "Python 2",
   "language": "python",
   "name": "python2"
  },
  "language_info": {
   "codemirror_mode": {
    "name": "ipython",
    "version": 2
   },
   "file_extension": ".py",
   "mimetype": "text/x-python",
   "name": "python",
   "nbconvert_exporter": "python",
   "pygments_lexer": "ipython2",
   "version": "2.7.14"
  }
 },
 "nbformat": 4,
 "nbformat_minor": 2
}
