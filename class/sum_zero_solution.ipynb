{
 "cells": [
  {
   "cell_type": "code",
   "execution_count": 3,
   "metadata": {},
   "outputs": [
    {
     "name": "stdout",
     "output_type": "stream",
     "text": [
      "[[-10, 2, 8], [-7, -3, 10]]\n"
     ]
    }
   ],
   "source": [
    "# Write a Python program to find the three elements that sum to zero from a set (array) of n real numbers.\n",
    "# Input\n",
    "# [-25, -10, -7, -3, 2, 4, 8, 10]\n",
    "# Output\n",
    "# [[-10, 2, 8], [-7, -3, 10]]\n",
    "\n",
    "class py_solution:\n",
    " def threeSum(self, nums):\n",
    "        nums, result, i = sorted(nums), [], 0\n",
    "        while i < len(nums) - 2:\n",
    "            j, k = i + 1, len(nums) - 1\n",
    "            while j < k:\n",
    "                if nums[i] + nums[j] + nums[k] < 0:\n",
    "                    j += 1\n",
    "                elif nums[i] + nums[j] + nums[k] > 0:\n",
    "                    k -= 1\n",
    "                else:\n",
    "                    result.append([nums[i], nums[j], nums[k]])\n",
    "                    j, k = j + 1, k - 1\n",
    "                    while j < k and nums[j] == nums[j - 1]:\n",
    "                        j += 1\n",
    "                    while j < k and nums[k] == nums[k + 1]:\n",
    "                        k -= 1\n",
    "            i += 1\n",
    "            while i < len(nums) - 2 and nums[i] == nums[i - 1]:\n",
    "                i += 1\n",
    "        return result\n",
    "\n",
    "print(py_solution().threeSum([-25, -10, -7, -3, 2, 4, 8, 10]))"
   ]
  },
  {
   "cell_type": "code",
   "execution_count": 5,
   "metadata": {},
   "outputs": [
    {
     "name": "stdout",
     "output_type": "stream",
     "text": [
      "删除的项为 : Runoob\n",
      "列表现在为 :  ['Google', 'Taobao']\n"
     ]
    }
   ],
   "source": [
    "list1 = ['Google', 'Runoob', 'Taobao']\n",
    "list_pop=list1.pop(1)\n",
    "print(\"删除的项为 :\", list_pop)\n",
    "print(\"列表现在为 : \", list1)"
   ]
  },
  {
   "cell_type": "code",
   "execution_count": 40,
   "metadata": {},
   "outputs": [
    {
     "name": "stdout",
     "output_type": "stream",
     "text": [
      "-10 2 8\n",
      "-7 -3 10\n",
      "None\n"
     ]
    }
   ],
   "source": [
    "def findTriplets(arr, n):\n",
    " \n",
    "    found = False\n",
    " \n",
    "    # sort array elements\n",
    "    arr.sort()\n",
    " \n",
    "    for i in range(0, n-1):\n",
    "     \n",
    "        # initialize left and right\n",
    "        l = i + 1\n",
    "        r = n - 1\n",
    "        x = arr[i]\n",
    "        while (l < r):\n",
    "         \n",
    "            if (x + arr[l] + arr[r] == 0):\n",
    "                # print elements if it's sum is zero\n",
    "                print(x, arr[l], arr[r])\n",
    "                l+=1\n",
    "                r-=1\n",
    "                found = True\n",
    "             \n",
    " \n",
    "            # If sum of three elements is less\n",
    "            # than zero then increment in left\n",
    "            elif (x + arr[l] + arr[r] < 0):\n",
    "                l+=1\n",
    " \n",
    "            # if sum is greater than zero than\n",
    "            # decrement in right side\n",
    "            else:\n",
    "                r-=1\n",
    "         \n",
    "    if (found == False):\n",
    "        print(\" No Triplet Found\")\n",
    "arr=[-25, 10, -7, -3, 2, 4, 8, -10]\n",
    "print(findTriplets(arr,len(arr)))       \n",
    "        "
   ]
  },
  {
   "cell_type": "code",
   "execution_count": 38,
   "metadata": {},
   "outputs": [
    {
     "name": "stdout",
     "output_type": "stream",
     "text": [
      "6\n"
     ]
    }
   ],
   "source": [
    "num=[-25, 10, -7, -3, 2, 4, 8, -10]\n",
    "print(len(num)-2)"
   ]
  },
  {
   "cell_type": "code",
   "execution_count": 41,
   "metadata": {},
   "outputs": [
    {
     "ename": "IndentationError",
     "evalue": "unexpected indent (<ipython-input-41-9c93c2c1ac8f>, line 4)",
     "output_type": "error",
     "traceback": [
      "\u001b[0;36m  File \u001b[0;32m\"<ipython-input-41-9c93c2c1ac8f>\"\u001b[0;36m, line \u001b[0;32m4\u001b[0m\n\u001b[0;31m    nums.sort()\u001b[0m\n\u001b[0m    ^\u001b[0m\n\u001b[0;31mIndentationError\u001b[0m\u001b[0;31m:\u001b[0m unexpected indent\n"
     ]
    }
   ],
   "source": []
  },
  {
   "cell_type": "code",
   "execution_count": null,
   "metadata": {},
   "outputs": [],
   "source": []
  }
 ],
 "metadata": {
  "kernelspec": {
   "display_name": "Python 3",
   "language": "python",
   "name": "python3"
  },
  "language_info": {
   "codemirror_mode": {
    "name": "ipython",
    "version": 3
   },
   "file_extension": ".py",
   "mimetype": "text/x-python",
   "name": "python",
   "nbconvert_exporter": "python",
   "pygments_lexer": "ipython3",
   "version": "3.6.4"
  }
 },
 "nbformat": 4,
 "nbformat_minor": 2
}
