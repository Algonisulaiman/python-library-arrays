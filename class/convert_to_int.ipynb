{
 "cells": [
  {
   "cell_type": "code",
   "execution_count": null,
   "metadata": {
    "collapsed": true
   },
   "outputs": [],
   "source": [
    "# Write a Python class to convert a roman numeral to an integer\n",
    "\n",
    "# Sample input\n",
    "# 'MMMCMLXXXVI'\n",
    "# 'MMMM'\n",
    "# 'C'\n",
    "\n",
    "# Sample output\n",
    "# 3986                                                                                                          \n",
    "# 4000                                                                                                          \n",
    "# 100"
   ]
  },
  {
   "cell_type": "code",
   "execution_count": 15,
   "metadata": {},
   "outputs": [
    {
     "name": "stdout",
     "output_type": "stream",
     "text": [
      "MMMCMLXXXVI\n",
      "4186\n",
      "MMMCML\n",
      "4150\n"
     ]
    }
   ],
   "source": [
    "class transform():\n",
    "    def calculate(self,words):\n",
    "        trans={'I': 1, 'V': 5, 'X': 10, 'L': 50, 'C': 100, 'D': 500, 'M': 1000}\n",
    "        print(words)\n",
    "        int_val=0\n",
    "        for c in range(len(words)):\n",
    "            if c>0 and trans[words[c]]>trans[words[c]]:\n",
    "                int_val += trans[words[c]] - 2 * trans[words[i - 1]]\n",
    "            else:\n",
    "                int_val += trans[words[c]]\n",
    "        return int_val\n",
    "\n",
    "print(transform().calculate('MMMCMLXXXVI'))\n",
    "print(transform().calculate('MMMCML'))"
   ]
  },
  {
   "cell_type": "code",
   "execution_count": null,
   "metadata": {},
   "outputs": [],
   "source": []
  }
 ],
 "metadata": {
  "kernelspec": {
   "display_name": "Python 3",
   "language": "python",
   "name": "python3"
  },
  "language_info": {
   "codemirror_mode": {
    "name": "ipython",
    "version": 3
   },
   "file_extension": ".py",
   "mimetype": "text/x-python",
   "name": "python",
   "nbconvert_exporter": "python",
   "pygments_lexer": "ipython3",
   "version": "3.6.4"
  }
 },
 "nbformat": 4,
 "nbformat_minor": 2
}
