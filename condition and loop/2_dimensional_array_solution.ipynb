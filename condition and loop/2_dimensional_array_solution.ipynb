{
 "cells": [
  {
   "cell_type": "code",
   "execution_count": null,
   "metadata": {},
   "outputs": [],
   "source": [
    "# ---------------------------------------------------------------\n",
    "# python best courses https://courses.tanpham.org/\n",
    "# ---------------------------------------------------------------\n",
    "# Write a Python program which takes two digits m (row) and n (column) as input and generates a two-dimensional array. \n",
    "# The element value in the i-th row and j-th column of the array should be i*j.\n",
    "# Note :\n",
    "# i = 0,1.., m-1 \n",
    "# j = 0,1, n-1.\n",
    "\n",
    "# Input\n",
    "# Input number of rows: 3                                                                                       \n",
    "# Input number of columns: 4  \n",
    "\n",
    "# Output\n",
    "# [[0, 0, 0, 0], [0, 1, 2, 3], [0, 2, 4, 6]]\n",
    "\n",
    "row_num = int(input(\"Input number of rows: \"))\n",
    "col_num = int(input(\"Input number of columns: \"))\n",
    "multi_list = [[0 for col in range(col_num)] for row in range(row_num)]\n",
    "\n",
    "for row in range(row_num):\n",
    "    for col in range(col_num):\n",
    "        multi_list[row][col]= row*col\n",
    "\n",
    "print(multi_list)"
   ]
  },
  {
   "cell_type": "code",
   "execution_count": 3,
   "metadata": {},
   "outputs": [
    {
     "name": "stdout",
     "output_type": "stream",
     "text": [
      "row: 3\n",
      "col: 2\n",
      "[0, 1, 2]\n",
      "range(0, 2)\n",
      "[[0, 0], [0, 1], [0, 2]]\n"
     ]
    }
   ],
   "source": [
    "row_num=int(input(\"row: \"))\n",
    "col_num=int(input(\"col: \"))\n",
    "row_range=range(row_num)\n",
    "col_range=range(col_num)\n",
    "print(list(row_range))\n",
    "print(col_range)\n",
    "table=[[0 for col in col_range] for row in row_range]\n",
    "\n",
    "for row in row_range:\n",
    "    for col in col_range:\n",
    "        table[row][col]=row*col\n",
    "        \n",
    "print(table)"
   ]
  },
  {
   "cell_type": "code",
   "execution_count": 16,
   "metadata": {},
   "outputs": [
    {
     "name": "stdout",
     "output_type": "stream",
     "text": [
      "1\n",
      "3\n",
      "5\n",
      "[2, 4, 6]\n"
     ]
    }
   ],
   "source": [
    "num_list = [1, 2, 3,4,5,6]\n",
    "for num in num_list:\n",
    "    print (num)\n",
    "    num_list.remove(num)\n",
    "print (num_list)"
   ]
  },
  {
   "cell_type": "code",
   "execution_count": null,
   "metadata": {},
   "outputs": [],
   "source": []
  }
 ],
 "metadata": {
  "kernelspec": {
   "display_name": "Python 3",
   "language": "python",
   "name": "python3"
  },
  "language_info": {
   "codemirror_mode": {
    "name": "ipython",
    "version": 3
   },
   "file_extension": ".py",
   "mimetype": "text/x-python",
   "name": "python",
   "nbconvert_exporter": "python",
   "pygments_lexer": "ipython3",
   "version": "3.6.4"
  }
 },
 "nbformat": 4,
 "nbformat_minor": 2
}
