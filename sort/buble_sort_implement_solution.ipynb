{
 "cells": [
  {
   "cell_type": "code",
   "execution_count": 24,
   "metadata": {},
   "outputs": [
    {
     "name": "stdout",
     "output_type": "stream",
     "text": [
      "[14, 21, 27, 41, 43, 45, 46, 57, 70]\n"
     ]
    }
   ],
   "source": [
    "# Write a Python program to sort a list of elements using the bubble sort algorithm.\n",
    "# Note : According to Wikipedia \"Bubble sort, sometimes referred to as sinking sort, is a simple sorting algorithm that\n",
    "# repeatedly steps through the list to be sorted, compares each pair of adjacent items and swaps them if they are in the \n",
    "# wrong order. The pass through the list is repeated until no swaps are needed, which indicates that the list is sorted. \n",
    "# The algorithm, which is a comparison sort, is named for the way smaller elements \"bubble\" to the top of the list. \n",
    "# Although the algorithm is simple, it is too slow and impractical for most problems even when compared to insertion sort. \n",
    "# It can be practical if the input is usually in sort order but may occasionally have some out-of-order elements nearly \n",
    "# in position.\n",
    "\n",
    "def bubbleSort(nlist):\n",
    "    for passnum in range(len(nlist)-1,0,-1):\n",
    "        for i in range(passnum):\n",
    "            if nlist[i]>nlist[i+1]:\n",
    "                temp = nlist[i]\n",
    "                nlist[i] = nlist[i+1]\n",
    "                nlist[i+1] = temp\n",
    "\n",
    "nlist = [14,46,43,27,57,41,45,21,70]\n",
    "bubbleSort(nlist)\n",
    "print(nlist)"
   ]
  },
  {
   "cell_type": "code",
   "execution_count": 23,
   "metadata": {},
   "outputs": [
    {
     "data": {
      "text/plain": [
       "6.0"
      ]
     },
     "execution_count": 23,
     "metadata": {},
     "output_type": "execute_result"
    }
   ],
   "source": [
    "# 引用numpy模块\n",
    "import numpy as np\n",
    "a=[2,8,9,4]\n",
    "#求数组a的中位数\n",
    "np.median(a)\n"
   ]
  },
  {
   "cell_type": "code",
   "execution_count": 64,
   "metadata": {},
   "outputs": [
    {
     "name": "stdout",
     "output_type": "stream",
     "text": [
      "[70, 57, 46, 45, 43, 41, 27, 21, 14]\n",
      "[14, 21, 27, 41, 43, 45, 46, 57, 70]\n"
     ]
    }
   ],
   "source": [
    "def bubbleSort(nlist):\n",
    "    for passnum in range(len(nlist)-1,0,-1):\n",
    "        for i in range(passnum):\n",
    "            if nlist[i+1]>nlist[i]:\n",
    "                nlist[i],nlist[i+1]=nlist[i+1],nlist[i]\n",
    "\n",
    "nlist = [14,46,43,27,57,41,45,21,70]\n",
    "bubbleSort(nlist)\n",
    "print(nlist)\n",
    "print(sorted(nlist))"
   ]
  },
  {
   "cell_type": "code",
   "execution_count": 9,
   "metadata": {},
   "outputs": [
    {
     "name": "stdout",
     "output_type": "stream",
     "text": [
      "57\n"
     ]
    }
   ],
   "source": [
    "mlist = [14,46,43,27,57,41,45,21,70]\n",
    "print(mlist[int(len(mlist)/2)])"
   ]
  },
  {
   "cell_type": "code",
   "execution_count": 38,
   "metadata": {},
   "outputs": [
    {
     "name": "stdout",
     "output_type": "stream",
     "text": [
      "70\n",
      "21\n",
      "45\n",
      "41\n",
      "57\n",
      "27\n",
      "43\n",
      "46\n",
      "14\n"
     ]
    }
   ],
   "source": [
    "nlist = [14,46,43,27,57,41,45,21,70]\n",
    "for i in range(len(nlist)-1,-1,-1):\n",
    "    print(nlist[i])"
   ]
  },
  {
   "cell_type": "code",
   "execution_count": 73,
   "metadata": {},
   "outputs": [
    {
     "name": "stdout",
     "output_type": "stream",
     "text": [
      "0\n",
      "1\n",
      "2\n",
      "3\n",
      "4\n",
      "5\n",
      "6\n",
      "7\n",
      "8\n",
      "[14, 27, 41, 43, 45, 21, 46, 57, 70]\n"
     ]
    }
   ],
   "source": [
    "def bubbleSort(nlist):\n",
    "    for passnum in range(len(nlist)):\n",
    "        print(passnum)\n",
    "        for i in range(passnum):\n",
    "            if nlist[i]>nlist[i+1]:\n",
    "                nlist[i+1],nlist[i]=nlist[i],nlist[i+1]\n",
    "\n",
    "nlist = [14,46,43,27,57,41,45,21,70]\n",
    "bubbleSort(nlist)\n",
    "print(nlist)"
   ]
  },
  {
   "cell_type": "code",
   "execution_count": null,
   "metadata": {},
   "outputs": [],
   "source": []
  }
 ],
 "metadata": {
  "kernelspec": {
   "display_name": "Python 3",
   "language": "python",
   "name": "python3"
  },
  "language_info": {
   "codemirror_mode": {
    "name": "ipython",
    "version": 3
   },
   "file_extension": ".py",
   "mimetype": "text/x-python",
   "name": "python",
   "nbconvert_exporter": "python",
   "pygments_lexer": "ipython3",
   "version": "3.6.4"
  }
 },
 "nbformat": 4,
 "nbformat_minor": 2
}
