{
 "cells": [
  {
   "cell_type": "code",
   "execution_count": null,
   "metadata": {
    "collapsed": true
   },
   "outputs": [],
   "source": [
    "# ---------------------------------------------------------------\n",
    "# python best courses https://courses.tanpham.org/\n",
    "# ---------------------------------------------------------------\n",
    "# Write a Python program to create a Caesar encryption\n",
    "\n",
    "# Note : In cryptography, a Caesar cipher, also known as Caesar's cipher, the shift cipher, Caesar's code or Caesar shift, is one of the simplest and most widely known encryption techniques.\n",
    "# It is a type of substitution cipher in which each letter in the plaintext is replaced by a letter some fixed number of positions down the alphabet.\n",
    "# For example, with a left shift of 3, D would be replaced by A, E would become B, and so on.\n",
    "# The method is named after Julius Caesar, who used it in his private correspondence.\n",
    "\n",
    "# plaintext:  defend the east wall of the castle\n",
    "# ciphertext: efgfoe uif fbtu xbmm pg uif dbtumf"
   ]
  },
  {
   "cell_type": "code",
   "execution_count": 30,
   "metadata": {},
   "outputs": [
    {
     "name": "stdout",
     "output_type": "stream",
     "text": [
      "A\n",
      "R\n",
      "F\n"
     ]
    }
   ],
   "source": [
    "'''65-90 97-123 ord chr'''\n",
    "def shift(something):\n",
    "    for text in something:\n",
    "        x=ord(text)\n",
    "        if x<=90:\n",
    "            x+=32\n",
    "        elif x>=97:\n",
    "            x-=32   \n",
    "        print(chr(x))\n",
    "        \n",
    "shift(input('please type somethi'))"
   ]
  },
  {
   "cell_type": "code",
   "execution_count": null,
   "metadata": {},
   "outputs": [],
   "source": []
  }
 ],
 "metadata": {
  "kernelspec": {
   "display_name": "Python 3",
   "language": "python",
   "name": "python3"
  },
  "language_info": {
   "codemirror_mode": {
    "name": "ipython",
    "version": 3
   },
   "file_extension": ".py",
   "mimetype": "text/x-python",
   "name": "python",
   "nbconvert_exporter": "python",
   "pygments_lexer": "ipython3",
   "version": "3.6.4"
  }
 },
 "nbformat": 4,
 "nbformat_minor": 2
}
