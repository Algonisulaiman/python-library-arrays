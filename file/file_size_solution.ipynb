{
 "cells": [
  {
   "cell_type": "code",
   "execution_count": 5,
   "metadata": {},
   "outputs": [
    {
     "name": "stdout",
     "output_type": "stream",
     "text": [
      "os.stat_result(st_mode=33261, st_ino=25168807, st_dev=16777220, st_nlink=1, st_uid=501, st_gid=20, st_size=1, st_atime=1535790868, st_mtime=1535790557, st_ctime=1535790557)\n",
      "File size in bytes of a plain file:  1\n"
     ]
    }
   ],
   "source": [
    "# ---------------------------------------------------------------\n",
    "# python best courses https://courses.tanpham.org/\n",
    "# ---------------------------------------------------------------\n",
    "# Write a Python program to get the file size of a plain file.\n",
    "# Use test.txt file at same folder\n",
    "\n",
    "\n",
    "def file_size(fname):\n",
    "        import os\n",
    "        statinfo = os.stat(fname)\n",
    "        print(statinfo)\n",
    "        return statinfo.st_size\n",
    "\n",
    "print(\"File size in bytes of a plain file: \",file_size(\"test.txt\"))"
   ]
  },
  {
   "cell_type": "code",
   "execution_count": 15,
   "metadata": {},
   "outputs": [
    {
     "name": "stdout",
     "output_type": "stream",
     "text": [
      "2018-09-01 16:34:28\n",
      "1535790868\n"
     ]
    }
   ],
   "source": [
    "'''\n",
    "st_mode: inode 保护模式\n",
    "st_ino: inode 节点号。\n",
    "st_dev: inode 驻留的设备。\n",
    "st_nlink: inode 的链接数。\n",
    "st_uid: 所有者的用户ID。\n",
    "st_gid: 所有者的组ID。\n",
    "st_size: 普通文件以字节为单位的大小；包含等待某些特殊文件的数据。\n",
    "st_atime: 上次访问的时间。\n",
    "st_mtime: 最后一次修改的时间。\n",
    "st_ctime: 由操作系统报告的\"ctime\"。在某些系统上（如Unix）是最新的元数据更改的时间，在其它系统上（如Windows）是创建时间（详细信息参见平台的文档）。\n",
    "'''\n",
    "import time\n",
    "x=' st_atime=1535790868'\n",
    "\n",
    "timeStamp = int(x.split('=')[1])\n",
    "timeArray = time.localtime(timeStamp)\n",
    "print(time.strftime(\"%Y-%m-%d %H:%M:%S\", timeArray))\n",
    "print(int(time.mktime(timeArray)))\n"
   ]
  },
  {
   "cell_type": "code",
   "execution_count": null,
   "metadata": {},
   "outputs": [],
   "source": []
  }
 ],
 "metadata": {
  "kernelspec": {
   "display_name": "Python 3",
   "language": "python",
   "name": "python3"
  },
  "language_info": {
   "codemirror_mode": {
    "name": "ipython",
    "version": 3
   },
   "file_extension": ".py",
   "mimetype": "text/x-python",
   "name": "python",
   "nbconvert_exporter": "python",
   "pygments_lexer": "ipython3",
   "version": "3.6.4"
  }
 },
 "nbformat": 4,
 "nbformat_minor": 2
}
